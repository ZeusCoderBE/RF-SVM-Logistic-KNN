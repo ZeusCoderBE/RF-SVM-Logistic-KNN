{
 "cells": [
  {
   "cell_type": "markdown",
   "metadata": {},
   "source": [
    "# Cài đặt thư viện"
   ]
  },
  {
   "cell_type": "code",
   "execution_count": 155,
   "metadata": {},
   "outputs": [],
   "source": [
    "import pandas as pd\n",
    "import numpy as np\n",
    "from sklearn.model_selection import train_test_split\n",
    "from sklearn.tree import DecisionTreeClassifier # CART\n",
    "from sklearn.metrics import accuracy_score, classification_report, mean_squared_error\n",
    "from sklearn.model_selection import GridSearchCV"
   ]
  },
  {
   "cell_type": "markdown",
   "metadata": {},
   "source": [
    "# Tiền xử lý dữ liệu"
   ]
  },
  {
   "cell_type": "code",
   "execution_count": 156,
   "metadata": {},
   "outputs": [
    {
     "data": {
      "text/plain": [
       "baseline value                                            0\n",
       "accelerations                                             0\n",
       "fetal_movement                                            0\n",
       "uterine_contractions                                      0\n",
       "light_decelerations                                       0\n",
       "severe_decelerations                                      0\n",
       "prolongued_decelerations                                  0\n",
       "abnormal_short_term_variability                           0\n",
       "mean_value_of_short_term_variability                      0\n",
       "percentage_of_time_with_abnormal_long_term_variability    0\n",
       "mean_value_of_long_term_variability                       0\n",
       "histogram_width                                           0\n",
       "histogram_min                                             0\n",
       "histogram_max                                             0\n",
       "histogram_number_of_peaks                                 0\n",
       "histogram_number_of_zeroes                                0\n",
       "histogram_mode                                            0\n",
       "histogram_mean                                            0\n",
       "histogram_median                                          0\n",
       "histogram_variance                                        0\n",
       "histogram_tendency                                        0\n",
       "fetal_health                                              0\n",
       "dtype: int64"
      ]
     },
     "execution_count": 156,
     "metadata": {},
     "output_type": "execute_result"
    }
   ],
   "source": [
    "df = pd.read_csv('./fetal_health.csv')\n",
    "\n",
    "# display(df.head(5))\n",
    "\n",
    "df.isnull().sum()"
   ]
  },
  {
   "cell_type": "markdown",
   "metadata": {},
   "source": [
    "# Model Decision Tree (CART)"
   ]
  },
  {
   "cell_type": "markdown",
   "metadata": {},
   "source": [
    "Trước khi tối ưu hóa"
   ]
  },
  {
   "cell_type": "code",
   "execution_count": 157,
   "metadata": {},
   "outputs": [
    {
     "name": "stdout",
     "output_type": "stream",
     "text": [
      "Classification Report:\n",
      "              precision    recall  f1-score   support\n",
      "\n",
      "         1.0       0.97      0.94      0.96       333\n",
      "         2.0       0.76      0.86      0.81        64\n",
      "         3.0       0.88      0.97      0.92        29\n",
      "\n",
      "    accuracy                           0.93       426\n",
      "   macro avg       0.87      0.92      0.89       426\n",
      "weighted avg       0.93      0.93      0.93       426\n",
      "\n",
      "Độ chính xác của mô hình là: 0.9295774647887324\n"
     ]
    }
   ],
   "source": [
    "X = df.drop(columns=['fetal_health'])\n",
    "y = df['fetal_health']\n",
    "\n",
    "X_train, X_test, y_train, y_test = train_test_split(X, y, test_size=0.2, random_state=42)\n",
    "\n",
    "# mô hình Decision Tree\n",
    "model = DecisionTreeClassifier(criterion='gini', random_state=0)\n",
    "model.fit(X_train, y_train)\n",
    "\n",
    "y_pred = model.predict(X_test)\n",
    "\n",
    "# Đánh giá\n",
    "print('Classification Report:')\n",
    "print(classification_report(y_test, y_pred))\n",
    "accuracy = accuracy_score(y_test, y_pred)\n",
    "print('Độ chính xác của mô hình là:', accuracy)"
   ]
  },
  {
   "cell_type": "markdown",
   "metadata": {},
   "source": [
    "Sau khi tối ưu hóa (sử dụng tinh chỉnh siêu tham số sử dụng Grid Search)"
   ]
  },
  {
   "cell_type": "code",
   "execution_count": 158,
   "metadata": {},
   "outputs": [
    {
     "name": "stdout",
     "output_type": "stream",
     "text": [
      "Best max_depth: 5\n",
      "Best min_samples_split: 2\n",
      "Best min_samples_leaf: 4\n",
      "Classification Report:\n",
      "              precision    recall  f1-score   support\n",
      "\n",
      "         1.0       0.95      0.97      0.96       333\n",
      "         2.0       0.88      0.70      0.78        64\n",
      "         3.0       0.83      1.00      0.91        29\n",
      "\n",
      "    accuracy                           0.93       426\n",
      "   macro avg       0.89      0.89      0.88       426\n",
      "weighted avg       0.93      0.93      0.93       426\n",
      "\n",
      "Độ chính xác của mô hình là: 0.931924882629108\n"
     ]
    }
   ],
   "source": [
    "# Danh sách các giá trị max_depth cần tinh chỉnh\n",
    "param_grid = {\n",
    "    'max_depth': [5, 10, 15, 20, 25, 30],  \n",
    "    'min_samples_split': [2, 5, 10],\n",
    "    'min_samples_leaf': [1, 2, 4]\n",
    "}\n",
    "\n",
    "X = df.drop(columns=['fetal_health'])\n",
    "y = df['fetal_health']\n",
    "\n",
    "X_train, X_test, y_train, y_test = train_test_split(X, y, test_size=0.2, random_state=42)\n",
    "\n",
    "# mô hình Decision Tree\n",
    "model = DecisionTreeClassifier(criterion='gini', random_state=0)\n",
    "\n",
    "# Tìm kiếm siêu tham số tốt nhất bằng Grid Search và kiểm tra chéo 5-fold\n",
    "grid_search = GridSearchCV(model, param_grid, cv=5, scoring='accuracy')\n",
    "grid_search.fit(X_train, y_train)\n",
    "\n",
    "# In ra giá trị tốt nhất trên tập kiểm tra\n",
    "print(\"Best max_depth:\", grid_search.best_params_['max_depth'])\n",
    "print(\"Best min_samples_split:\", grid_search.best_params_['min_samples_split'])\n",
    "print(\"Best min_samples_leaf:\", grid_search.best_params_['min_samples_leaf'])\n",
    "\n",
    "best_model = grid_search.best_estimator_\n",
    "y_pred = best_model.predict(X_test)\n",
    "print('Classification Report:')\n",
    "print(classification_report(y_test, y_pred))\n",
    "print('Độ chính xác của mô hình là:', accuracy_score(y_test, y_pred))\n"
   ]
  }
 ],
 "metadata": {
  "kernelspec": {
   "display_name": "Python 3",
   "language": "python",
   "name": "python3"
  },
  "language_info": {
   "codemirror_mode": {
    "name": "ipython",
    "version": 3
   },
   "file_extension": ".py",
   "mimetype": "text/x-python",
   "name": "python",
   "nbconvert_exporter": "python",
   "pygments_lexer": "ipython3",
   "version": "3.11.4"
  }
 },
 "nbformat": 4,
 "nbformat_minor": 2
}
